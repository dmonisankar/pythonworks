{
 "cells": [
  {
   "cell_type": "code",
   "execution_count": null,
   "metadata": {},
   "outputs": [],
   "source": [
    "# Python functools module provides us various tools which allows and encourages us to write reusable code. Some of them are:\n",
    "\n",
    "# Partial functions\n",
    "# Updating Partial wrappers\n",
    "# Total ordering"
   ]
  },
  {
   "cell_type": "code",
   "execution_count": 1,
   "metadata": {},
   "outputs": [],
   "source": [
    "# Partial functions\n",
    "\n",
    "def multiplier(x, y):\n",
    "    return x * y"
   ]
  },
  {
   "cell_type": "code",
   "execution_count": 3,
   "metadata": {},
   "outputs": [
    {
     "name": "stdout",
     "output_type": "stream",
     "text": [
      "Double of 5 is 10\n",
      "Tripple of 5 is 15\n"
     ]
    }
   ],
   "source": [
    "from functools import partial\n",
    "\n",
    "double = partial(multiplier, y=2)\n",
    "triple = partial(multiplier, y=3)\n",
    "\n",
    "print('Double of 5 is {}'.format(double(5)))\n",
    "print('Tripple of 5 is {}'.format(triple(5)))"
   ]
  },
  {
   "cell_type": "code",
   "execution_count": 4,
   "metadata": {},
   "outputs": [
    {
     "name": "stdout",
     "output_type": "stream",
     "text": [
      "Product of 1 and 2 is 2\n",
      "Product of 3 and 2 is 6\n",
      "Product of 9 and 2 is 18\n"
     ]
    }
   ],
   "source": [
    "multiplier_partials = []\n",
    "for i in range (1, 11):\n",
    "    function = partial(multiplier, i)\n",
    "    multiplier_partials.append(function)\n",
    "\n",
    "print('Product of 1 and 2 is {}'.format(multiplier_partials[0](2)))\n",
    "print('Product of 3 and 2 is {}'.format(multiplier_partials[2](2)))\n",
    "print('Product of 9 and 2 is {}'.format(multiplier_partials[8](2)))"
   ]
  },
  {
   "cell_type": "code",
   "execution_count": null,
   "metadata": {},
   "outputs": [],
   "source": []
  }
 ],
 "metadata": {
  "kernelspec": {
   "display_name": "Python 3",
   "language": "python",
   "name": "python3"
  },
  "language_info": {
   "codemirror_mode": {
    "name": "ipython",
    "version": 3
   },
   "file_extension": ".py",
   "mimetype": "text/x-python",
   "name": "python",
   "nbconvert_exporter": "python",
   "pygments_lexer": "ipython3",
   "version": "3.7.7"
  }
 },
 "nbformat": 4,
 "nbformat_minor": 4
}
